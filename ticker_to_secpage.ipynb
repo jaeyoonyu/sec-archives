{
 "cells": [
  {
   "cell_type": "code",
   "execution_count": 1,
   "id": "a945e948-09c3-4c5c-bdb3-fceac6884ea9",
   "metadata": {},
   "outputs": [],
   "source": [
    "def ticker_to_cik (ticker, csv_file= 'tick_cik.csv'):\n",
    "        \n",
    "    \"\"\"\n",
    "    get CIK from tic_cik.csv, which is generated from save_tic_cik_csv.ipynb\n",
    "    \n",
    "    \"\"\"\n",
    "    import csv\n",
    "    \n",
    "    with open(csv_file) as f:\n",
    "        reader= csv.reader(f)\n",
    "        for row in reader:\n",
    "            if row[0]==ticker.lower():\n",
    "                cik= row[1]\n",
    "                return cik"
   ]
  },
  {
   "cell_type": "code",
   "execution_count": 2,
   "id": "acb2740b-7a6a-4aae-aa88-8cff56e24668",
   "metadata": {},
   "outputs": [],
   "source": [
    "def ticker_to_sec (key):\n",
    "    \n",
    "    \"\"\"\n",
    "    get sec-webpage from ticker\n",
    "    \"\"\"    \n",
    "    import re\n",
    "    \n",
    "    # get cik if key is ticker.\n",
    "    if re.search(r'[a-zA-Z]', key):\n",
    "        cik= ticker_to_cik(key)\n",
    "    else:\n",
    "        cik= key\n",
    "    \n",
    "    firm_url= rf\"https://www.sec.gov/cgi-bin/browse-edgar?CIK={cik}&owner=exclude\"\n",
    "    return firm_url"
   ]
  },
  {
   "cell_type": "code",
   "execution_count": 3,
   "id": "03f10923-4da9-4bc7-a0f9-92439fecb0f8",
   "metadata": {},
   "outputs": [
    {
     "name": "stdout",
     "output_type": "stream",
     "text": [
      "Test of ticker_to_cik function: 789019\n",
      "Test of ticker_to_sec function with cik input: https://www.sec.gov/cgi-bin/browse-edgar?CIK=789019&owner=exclude\n",
      "Test of ticker_to_sec function with ticker input: https://www.sec.gov/cgi-bin/browse-edgar?CIK=789019&owner=exclude\n"
     ]
    }
   ],
   "source": [
    "if __name__ ==\"__main__\":\n",
    "    \n",
    "    cik= ticker_to_cik(\"MSFT\")\n",
    "    print(f\"Test of ticker_to_cik function: {cik}\")\n",
    "    \n",
    "    url= ticker_to_sec(\"789019\")\n",
    "    print(f\"Test of ticker_to_sec function with cik input: {url}\")    \n",
    "    \n",
    "    url= ticker_to_sec(\"MSFT\")\n",
    "    print(f\"Test of ticker_to_sec function with ticker input: {url}\")"
   ]
  }
 ],
 "metadata": {
  "kernelspec": {
   "display_name": "Python 3",
   "language": "python",
   "name": "python3"
  },
  "language_info": {
   "codemirror_mode": {
    "name": "ipython",
    "version": 3
   },
   "file_extension": ".py",
   "mimetype": "text/x-python",
   "name": "python",
   "nbconvert_exporter": "python",
   "pygments_lexer": "ipython3",
   "version": "3.8.8"
  }
 },
 "nbformat": 4,
 "nbformat_minor": 5
}
