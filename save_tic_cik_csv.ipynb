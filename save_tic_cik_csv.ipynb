{
 "cells": [
  {
   "cell_type": "code",
   "execution_count": 1,
   "id": "cde6ffe1-b8a2-43a8-a178-8c2a6d796928",
   "metadata": {},
   "outputs": [],
   "source": [
    "def save_tic_cik_csv(file_name='tick_cik.csv'):\n",
    "    \n",
    "    \"\"\"\n",
    "    Download ticker-CIK list from SEC\n",
    "    Save it in a .csv\n",
    "    \"\"\"    \n",
    "    \n",
    "    import requests\n",
    "    import csv\n",
    "\n",
    "    headers = {'user-agent': 'sample text'}\n",
    "    \n",
    "    url= r\"https://www.sec.gov/include/ticker.txt\"\n",
    "    response= requests.get(url, headers= headers)\n",
    "    tic_to_cik= response.content.decode('utf-8').split(\"\\n\")\n",
    "    \n",
    "    if tic_to_cik==['']:\n",
    "        print(f\"ERROR===================================================\")\n",
    "        print(f\"   Response: {response}. requests.get() returns nothing. The {file_name} hasn't been updated\")\n",
    "        print(f\"   It should be ckecked whether the data is available: {url}\")\n",
    "        print(f\"=========================================================\")\n",
    "        return\n",
    "        \n",
    "    else: \n",
    "        for i, line in enumerate(tic_to_cik):\n",
    "            tic_to_cik[i]= tic_to_cik[i].split('\\t')\n",
    "        with open(file_name, 'w', newline='') as f:\n",
    "            write= csv.writer(f)\n",
    "            write.writerows(tic_to_cik)\n",
    "    print(f\"The Ticker-CIK matching table has been saved as {file_name}.\")    "
   ]
  },
  {
   "cell_type": "code",
   "execution_count": 2,
   "id": "94c9679f-ff7d-4633-804e-f5a3bdf1c20c",
   "metadata": {},
   "outputs": [
    {
     "name": "stdout",
     "output_type": "stream",
     "text": [
      "The Ticker-CIK matching table has been saved as tick_cik.csv.\n"
     ]
    }
   ],
   "source": [
    "if __name__ == \"__main__\":\n",
    "    save_tic_cik_csv('tick_cik.csv')"
   ]
  }
 ],
 "metadata": {
  "kernelspec": {
   "display_name": "sec",
   "language": "python",
   "name": "sec"
  },
  "language_info": {
   "codemirror_mode": {
    "name": "ipython",
    "version": 3
   },
   "file_extension": ".py",
   "mimetype": "text/x-python",
   "name": "python",
   "nbconvert_exporter": "python",
   "pygments_lexer": "ipython3",
   "version": "3.8.8"
  }
 },
 "nbformat": 4,
 "nbformat_minor": 5
}
